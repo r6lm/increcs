{
 "cells": [
  {
   "cell_type": "code",
   "execution_count": null,
   "id": "e37420b5-1298-4f95-b009-1c8371539dec",
   "metadata": {},
   "outputs": [],
   "source": [
    "import pandas as pd\n",
    "import os\n",
    "from pandas_profiling import ProfileReport\n",
    "import seaborn as sns\n",
    "import matplotlib.pyplot as plt\n",
    "import matplotlib.ticker as ticker\n",
    "\n",
    "%matplotlib inline\n",
    "sns.set(font_scale = 1.5)"
   ]
  },
  {
   "cell_type": "code",
   "execution_count": null,
   "id": "cbf57458-fbab-4775-ba05-16e54f658976",
   "metadata": {},
   "outputs": [],
   "source": [
    "# raw data\n",
    "cat_cols = [\"userId\", \"movieId\"]\n",
    "parsed_ratings_df = pd.read_csv(\n",
    "    './../data/ml-25m/ratings.csv', \n",
    "    dtype=dict(zip(cat_cols, [\"category\"] * 2)))"
   ]
  },
  {
   "cell_type": "code",
   "execution_count": null,
   "id": "30cb7e27-c9a2-40fa-a840-cd4071eca98a",
   "metadata": {},
   "outputs": [],
   "source": [
    "# downcast ratings to uints from 1 to 10\n",
    "parsed_ratings_df.loc[:, \"rating\"] = (parsed_ratings_df.rating * 2).astype(\"uint8\")\n",
    "\n",
    "# parse timestamps as datetimes\n",
    "parsed_ratings_df.loc[:, \"timestamp\"] = pd.to_datetime(parsed_ratings_df[\"timestamp\"], unit=\"s\")\n",
    "\n",
    "# print result of parsing\n",
    "parsed_ratings_df.info()"
   ]
  },
  {
   "cell_type": "code",
   "execution_count": null,
   "id": "1865fdba-f398-425f-9e44-72b6546456d3",
   "metadata": {},
   "outputs": [],
   "source": [
    "# generate pandas profiling report\n",
    "#profile = ProfileReport(parsed_ratings_df, title=\"Pandas Profiling Report\", minimal=True)\n",
    "#profile.to_file(\"minimal_report.html\")`"
   ]
  },
  {
   "cell_type": "markdown",
   "id": "96dd51b5-b34f-4c00-9478-7fe3d5c6e8af",
   "metadata": {},
   "source": [
    "# Number of ratings per user"
   ]
  },
  {
   "cell_type": "code",
   "execution_count": null,
   "id": "65314eb5-233d-443a-b021-a255758e4578",
   "metadata": {},
   "outputs": [],
   "source": [
    "user_ratings_df = parsed_ratings_df.groupby(\"userId\")[[\"rating\"]].count()"
   ]
  },
  {
   "cell_type": "code",
   "execution_count": null,
   "id": "b0a61c31-8793-40ab-a39a-b765db57f018",
   "metadata": {},
   "outputs": [],
   "source": [
    "user_ratings_desc = user_ratings_df.describe()\n",
    "user_ratings_desc"
   ]
  },
  {
   "cell_type": "code",
   "execution_count": null,
   "id": "88a57134-028d-4551-8d0c-09eb1f3bcad3",
   "metadata": {},
   "outputs": [],
   "source": [
    "user_ratings_df"
   ]
  },
  {
   "cell_type": "code",
   "execution_count": null,
   "id": "c695a925-f28b-4883-897a-27d1818cd774",
   "metadata": {},
   "outputs": [],
   "source": [
    "parsed_ratings_df.info()"
   ]
  },
  {
   "cell_type": "code",
   "execution_count": null,
   "id": "d2b234af-9836-4ce4-b3f6-8caaf5648d37",
   "metadata": {},
   "outputs": [],
   "source": [
    "upper_xlim = 150\n",
    "sns.displot(user_ratings_df[\"rating\"].loc[lambda srs: srs <= upper_xlim],\n",
    "            discrete=True, height=8, aspect=1.5,)\n",
    "plt.gca().xaxis.set_major_locator(ticker.MultipleLocator(10))\n",
    "plt.title(\"Distribution of number of ratings per user\")\n",
    "plt.ylabel(\"# of users\")\n",
    "plt.xlabel(\"# of ratings\")\n",
    "plt.xlim((19, upper_xlim));\n",
    "#plt.savefig(\"img/ratings_per_user.pdf\", bbox_inches=\"tight\")"
   ]
  },
  {
   "cell_type": "markdown",
   "id": "8593ed56-d9df-471c-9546-24981a58f647",
   "metadata": {},
   "source": [
    "# Number of ratings per movie"
   ]
  },
  {
   "cell_type": "code",
   "execution_count": null,
   "id": "6d96e306-a33d-4a80-a709-9c2c3efda7b8",
   "metadata": {},
   "outputs": [],
   "source": [
    "movie_ratings_df = parsed_ratings_df.groupby(\"movieId\")[[\"rating\"]].count()"
   ]
  },
  {
   "cell_type": "code",
   "execution_count": null,
   "id": "29b782da-ab35-4e7d-9995-9a96b938599c",
   "metadata": {},
   "outputs": [],
   "source": [
    "movie_ratings_df.describe()"
   ]
  },
  {
   "cell_type": "code",
   "execution_count": null,
   "id": "5859937f-a57a-4437-92ce-74dfe3c84898",
   "metadata": {},
   "outputs": [],
   "source": [
    "# get quantile for x lim\n",
    "quantile_xlim = movie_ratings_df[\"rating\"].quantile(.8)\n",
    "quantile_xlim_count = movie_ratings_df[\"rating\"].eq(quantile_xlim).sum()\n",
    "\n",
    "# plot \n",
    "sns.displot(movie_ratings_df[\"rating\"].loc[lambda srs: srs <= quantile_xlim], \n",
    "            discrete=True, height=8, aspect=1.5,)\n",
    "plt.gca().xaxis.set_major_locator(ticker.MultipleLocator(10))\n",
    "plt.title(f\"Distribution of number of ratings per movie\\nClipped at quantile .8: \"\n",
    "          f\"{quantile_xlim} ratings on {quantile_xlim_count} movies\")\n",
    "plt.ylabel(\"# of movies\")\n",
    "plt.xlabel(\"# of ratings\")\n",
    "plt.xlim((0, quantile_xlim));\n",
    "#plt.savefig(\"img/ratings_per_movie.pdf\", bbox_inches=\"tight\")"
   ]
  }
 ],
 "metadata": {
  "kernelspec": {
   "display_name": "Python (alpha)",
   "language": "python",
   "name": "alpha"
  },
  "language_info": {
   "codemirror_mode": {
    "name": "ipython",
    "version": 3
   },
   "file_extension": ".py",
   "mimetype": "text/x-python",
   "name": "python",
   "nbconvert_exporter": "python",
   "pygments_lexer": "ipython3",
   "version": "3.8.13"
  }
 },
 "nbformat": 4,
 "nbformat_minor": 5
}
