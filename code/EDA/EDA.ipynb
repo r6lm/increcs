{
 "cells": [
  {
   "cell_type": "code",
   "execution_count": null,
   "id": "e37420b5-1298-4f95-b009-1c8371539dec",
   "metadata": {},
   "outputs": [],
   "source": [
    "import pandas as pd\n",
    "import os\n",
    "from pandas_profiling import ProfileReport\n",
    "import seaborn as sns\n",
    "import matplotlib.pyplot as plt\n",
    "import matplotlib.ticker as ticker\n",
    "\n",
    "%matplotlib inline\n",
    "sns.set(font_scale = 1.5)"
   ]
  },
  {
   "cell_type": "code",
   "execution_count": null,
   "id": "cbf57458-fbab-4775-ba05-16e54f658976",
   "metadata": {},
   "outputs": [],
   "source": [
    "# raw data\n",
    "cat_cols = [\"userId\", \"movieId\"]\n",
    "parsed_ratings_df = pd.read_csv(\n",
    "    './../data/ml-25m/ratings.csv', \n",
    "    dtype=dict(zip(cat_cols, [\"category\"] * 2)))"
   ]
  },
  {
   "cell_type": "code",
   "execution_count": null,
   "id": "30cb7e27-c9a2-40fa-a840-cd4071eca98a",
   "metadata": {},
   "outputs": [],
   "source": [
    "# downcast ratings to uints from 1 to 10\n",
    "parsed_ratings_df.loc[:, \"rating\"] = (parsed_ratings_df.rating * 2).astype(\"uint8\")\n",
    "\n",
    "# parse timestamps as datetimes\n",
    "parsed_ratings_df.loc[:, \"timestamp\"] = pd.to_datetime(parsed_ratings_df[\"timestamp\"], unit=\"s\")\n",
    "\n",
    "# print result of parsing\n",
    "parsed_ratings_df.info()"
   ]
  },
  {
   "cell_type": "markdown",
   "id": "df3e1181",
   "metadata": {},
   "source": [
    "# Whole Dataset"
   ]
  },
  {
   "cell_type": "code",
   "execution_count": null,
   "id": "1865fdba-f398-425f-9e44-72b6546456d3",
   "metadata": {},
   "outputs": [],
   "source": [
    "# generate pandas profiling report\n",
    "#profile = ProfileReport(parsed_ratings_df, title=\"Pandas Profiling Report\", minimal=True)\n",
    "#profile.to_file(\"minimal_report.html\")`"
   ]
  },
  {
   "cell_type": "markdown",
   "id": "96dd51b5-b34f-4c00-9478-7fe3d5c6e8af",
   "metadata": {},
   "source": [
    "## Number of ratings per user"
   ]
  },
  {
   "cell_type": "code",
   "execution_count": null,
   "id": "65314eb5-233d-443a-b021-a255758e4578",
   "metadata": {},
   "outputs": [],
   "source": [
    "user_ratings_df = parsed_ratings_df.groupby(\"userId\", observed=True)[[\"rating\"]].count()"
   ]
  },
  {
   "cell_type": "code",
   "execution_count": null,
   "id": "b0a61c31-8793-40ab-a39a-b765db57f018",
   "metadata": {},
   "outputs": [],
   "source": [
    "user_ratings_desc = user_ratings_df.describe()\n",
    "user_ratings_desc"
   ]
  },
  {
   "cell_type": "code",
   "execution_count": null,
   "id": "88a57134-028d-4551-8d0c-09eb1f3bcad3",
   "metadata": {},
   "outputs": [],
   "source": [
    "user_ratings_df"
   ]
  },
  {
   "cell_type": "code",
   "execution_count": null,
   "id": "d2b234af-9836-4ce4-b3f6-8caaf5648d37",
   "metadata": {},
   "outputs": [],
   "source": [
    "    \n",
    "upper_xlim = 150\n",
    "sns.displot(user_ratings_df[\"rating\"].loc[lambda srs: srs <= upper_xlim],\n",
    "            discrete=True, height=8, aspect=1.5,)\n",
    "plt.gca().xaxis.set_major_locator(ticker.MultipleLocator(10))\n",
    "plt.title(\"Distribution of number of ratings per user\")\n",
    "plt.ylabel(\"# of users\")\n",
    "plt.xlabel(\"# of ratings\")\n",
    "plt.xlim((19, upper_xlim));\n",
    "#plt.savefig(\"img/ratings_per_user.pdf\", bbox_inches=\"tight\")"
   ]
  },
  {
   "cell_type": "markdown",
   "id": "a23cb2a4",
   "metadata": {},
   "source": [
    "## Number of ratings per movie"
   ]
  },
  {
   "cell_type": "code",
   "execution_count": null,
   "id": "6d96e306-a33d-4a80-a709-9c2c3efda7b8",
   "metadata": {},
   "outputs": [],
   "source": [
    "movie_ratings_df = parsed_ratings_df.groupby(\"movieId\", observed=True)[[\"rating\"]].count()"
   ]
  },
  {
   "cell_type": "code",
   "execution_count": null,
   "id": "29b782da-ab35-4e7d-9995-9a96b938599c",
   "metadata": {},
   "outputs": [],
   "source": [
    "movie_ratings_df.describe()"
   ]
  },
  {
   "cell_type": "code",
   "execution_count": null,
   "id": "5859937f-a57a-4437-92ce-74dfe3c84898",
   "metadata": {},
   "outputs": [],
   "source": [
    "# get quantile for x lim\n",
    "quantile_xlim = movie_ratings_df[\"rating\"].quantile(.8)\n",
    "quantile_xlim_count = movie_ratings_df[\"rating\"].eq(quantile_xlim).sum()\n",
    "\n",
    "# plot \n",
    "sns.displot(movie_ratings_df[\"rating\"].loc[lambda srs: srs <= quantile_xlim], \n",
    "            discrete=True, height=8, aspect=1.5,)\n",
    "plt.gca().xaxis.set_major_locator(ticker.MultipleLocator(10))\n",
    "plt.title(f\"Distribution of number of ratings per movie\\nClipped at quantile .8: \"\n",
    "          f\"{quantile_xlim} ratings on {quantile_xlim_count} movies\")\n",
    "plt.ylabel(\"# of movies\")\n",
    "plt.xlabel(\"# of ratings\")\n",
    "plt.xlim((0, quantile_xlim));\n",
    "#plt.savefig(\"img/ratings_per_movie.pdf\", bbox_inches=\"tight\")"
   ]
  },
  {
   "cell_type": "markdown",
   "id": "1c45c9f4",
   "metadata": {},
   "source": [
    "# ASMG subset"
   ]
  },
  {
   "cell_type": "code",
   "execution_count": null,
   "id": "8b0579bc",
   "metadata": {},
   "outputs": [],
   "source": [
    "start_date = \"20140101\"\n",
    "end_date = \"20190101\"\n",
    "asmg_ratings_df = parsed_ratings_df.loc[lambda df: df[\"timestamp\"].between(\n",
    "    start_date, end_date, inclusive=\"left\"), :]\n",
    "asmg_ratings_df.shape"
   ]
  },
  {
   "cell_type": "code",
   "execution_count": null,
   "id": "013a819e",
   "metadata": {},
   "outputs": [],
   "source": [
    "# generate pandas profiling report\n",
    "# profile = ProfileReport(asmg_ratings_df.reset_index(), \n",
    "# title=\"Pandas Profiling Report\", minimal=True)\n",
    "# profile.to_file(\"minimal_report-asmg_subset.html\")"
   ]
  },
  {
   "cell_type": "markdown",
   "id": "96dd51b5-b34f-4c00-9478-7fe3d5c6e8af",
   "metadata": {},
   "source": [
    "## Number of ratings per user"
   ]
  },
  {
   "cell_type": "code",
   "execution_count": null,
   "id": "65314eb5-233d-443a-b021-a255758e4578",
   "metadata": {},
   "outputs": [],
   "source": [
    "asmg_user_ratings_df = asmg_ratings_df.groupby(\"userId\", observed=True)[[\"rating\"]].count()"
   ]
  },
  {
   "cell_type": "code",
   "execution_count": null,
   "id": "b0a61c31-8793-40ab-a39a-b765db57f018",
   "metadata": {},
   "outputs": [],
   "source": [
    "asmg_user_ratings_desc = asmg_user_ratings_df.describe()\n",
    "asmg_user_ratings_desc"
   ]
  },
  {
   "cell_type": "code",
   "execution_count": null,
   "id": "88a57134-028d-4551-8d0c-09eb1f3bcad3",
   "metadata": {},
   "outputs": [],
   "source": [
    "asmg_user_ratings_df"
   ]
  },
  {
   "cell_type": "code",
   "execution_count": null,
   "id": "d2b234af-9836-4ce4-b3f6-8caaf5648d37",
   "metadata": {},
   "outputs": [],
   "source": [
    "    \n",
    "upper_xlim = 200\n",
    "sns.displot(asmg_user_ratings_df[\"rating\"].loc[lambda srs: srs <= upper_xlim],\n",
    "            discrete=True, height=8, aspect=1.5,)\n",
    "plt.gca().xaxis.set_major_locator(ticker.MultipleLocator(10))\n",
    "plt.title(\"Distribution of number of ratings per user\")\n",
    "plt.ylabel(\"# of users\")\n",
    "plt.xlabel(\"# of ratings\")\n",
    "plt.xlim((19, upper_xlim));\n",
    "plt.savefig(\"img/asmg_subset-ratings_per_user.pdf\", bbox_inches=\"tight\")"
   ]
  },
  {
   "cell_type": "markdown",
   "id": "a23cb2a4",
   "metadata": {},
   "source": [
    "## Number of ratings per movie"
   ]
  },
  {
   "cell_type": "code",
   "execution_count": null,
   "id": "6d96e306-a33d-4a80-a709-9c2c3efda7b8",
   "metadata": {},
   "outputs": [],
   "source": [
    "asmg_movie_ratings_df = asmg_ratings_df.groupby(\"movieId\", observed=True)[[\"rating\"]].count()"
   ]
  },
  {
   "cell_type": "markdown",
   "id": "904be6b8",
   "metadata": {},
   "source": [
    "asmg_movie_ratings_df = asmg_ratings_df.groupby(\"movieId\")[[\"rating\"]].agg(lambda x: len(x))"
   ]
  },
  {
   "cell_type": "code",
   "execution_count": null,
   "id": "29b782da-ab35-4e7d-9995-9a96b938599c",
   "metadata": {},
   "outputs": [],
   "source": [
    "asmg_movie_ratings_df.describe()"
   ]
  },
  {
   "cell_type": "code",
   "execution_count": null,
   "id": "5859937f-a57a-4437-92ce-74dfe3c84898",
   "metadata": {},
   "outputs": [],
   "source": [
    "# get quantile for x lim\n",
    "quantile_ = .85\n",
    "quantile_xlim = asmg_movie_ratings_df[\"rating\"].quantile(quantile_)\n",
    "quantile_xlim_count = asmg_movie_ratings_df[\"rating\"].eq(quantile_xlim).sum()\n",
    "\n",
    "# plot \n",
    "sns.displot(asmg_movie_ratings_df[\"rating\"].loc[lambda srs: srs <= quantile_xlim], \n",
    "            discrete=True, height=8, aspect=1.5,)\n",
    "plt.gca().xaxis.set_major_locator(ticker.MultipleLocator(10))\n",
    "plt.title(f\"Distribution of number of ratings per movie\\nClipped at quantile {quantile_}: \"\n",
    "          f\"{quantile_xlim} ratings on {quantile_xlim_count} movies\")\n",
    "plt.ylabel(\"# of movies\")\n",
    "plt.xlabel(\"# of ratings\")\n",
    "plt.xlim((0, quantile_xlim));\n",
    "# plt.savefig(\"img/asmg_subset-ratings_per_movie.pdf\", bbox_inches=\"tight\")"
   ]
  },
  {
   "cell_type": "code",
   "execution_count": null,
   "id": "20780611",
   "metadata": {},
   "outputs": [],
   "source": []
  }
 ],
 "metadata": {
  "interpreter": {
   "hash": "26ae111bd7481dd6266ac7e84bf867498b6b0fbfa14667d050bcdd9b0494c793"
  },
  "kernelspec": {
   "display_name": "Python 3.8.13 ('alpha')",
   "language": "python",
   "name": "python3"
  },
  "language_info": {
   "codemirror_mode": {
    "name": "ipython",
    "version": 3
   },
   "file_extension": ".py",
   "mimetype": "text/x-python",
   "name": "python",
   "nbconvert_exporter": "python",
   "pygments_lexer": "ipython3",
   "version": "3.8.13"
  }
 },
 "nbformat": 4,
 "nbformat_minor": 5
}
