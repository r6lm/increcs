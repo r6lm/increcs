{
 "cells": [
  {
   "cell_type": "markdown",
   "metadata": {},
   "source": [
    "# Notes\n",
    "\n",
    "The number of movies observed in the \"ratings.csv\" (59,047) does not match the number of movies on the readme (62,423)"
   ]
  },
  {
   "cell_type": "code",
   "execution_count": null,
   "metadata": {},
   "outputs": [],
   "source": [
    "import pandas as pd\n",
    "import os\n",
    "\n",
    "%matplotlib inline\n",
    "# sns.set(font_scale = 1.5)"
   ]
  },
  {
   "cell_type": "code",
   "execution_count": null,
   "metadata": {},
   "outputs": [],
   "source": [
    "# parameters\n",
    "preproc_config = dict(\n",
    "    data_dir = \"./../../data\",\n",
    "    n_periods = 31,\n",
    "    dst_dir = \"preprocessed\",\n",
    "    dst_filename = \"ml_processed\",\n",
    "    movie_map_filename = \"movieId_map\"\n",
    "    )\n",
    "print(preproc_config)"
   ]
  },
  {
   "cell_type": "code",
   "execution_count": null,
   "metadata": {},
   "outputs": [],
   "source": [
    "# raw data\n",
    "parsed_ratings_df = pd.read_csv(\n",
    "    f'{preproc_config[\"data_dir\"]}/ml-25m/ratings.csv') #, \n",
    "    #dtype=dict(zip(cat_cols, [\"category\"] * 2)))"
   ]
  },
  {
   "cell_type": "markdown",
   "metadata": {},
   "source": [
    "parsed_ratings_df.info()"
   ]
  },
  {
   "cell_type": "markdown",
   "metadata": {},
   "source": [
    "parsed_ratings_df[cat_cols].nunique()"
   ]
  },
  {
   "cell_type": "markdown",
   "metadata": {},
   "source": [
    "tt[\"userId\"]"
   ]
  },
  {
   "cell_type": "markdown",
   "metadata": {},
   "source": [
    "tt.nunique()"
   ]
  },
  {
   "cell_type": "code",
   "execution_count": null,
   "metadata": {},
   "outputs": [],
   "source": [
    "# downcast ratings to uints from 1 to 10\n",
    "parsed_ratings_df.loc[:, \"rating\"] = (parsed_ratings_df.rating * 2).astype(\"uint8\")\n",
    "\n",
    "# parse timestamps as datetimes\n",
    "parsed_ratings_df.loc[:, \"timestamp\"] = pd.to_datetime(parsed_ratings_df[\"timestamp\"], unit=\"s\")\n",
    "\n",
    "# print result of parsing\n",
    "# parsed_ratings_df.info()"
   ]
  },
  {
   "cell_type": "markdown",
   "metadata": {},
   "source": []
  },
  {
   "cell_type": "code",
   "execution_count": null,
   "metadata": {},
   "outputs": [],
   "source": [
    "# get ASMG subset data\n",
    "start_date = \"20140101\"\n",
    "end_date = \"20190101\"\n",
    "asmg_ratings_df = parsed_ratings_df.loc[lambda df: df[\"timestamp\"].between(\n",
    "    start_date, end_date, inclusive=\"left\"), :].copy()\n",
    "\n",
    "\n",
    "\n",
    "# set user according to ASMG: give the id according to their order\n",
    "def get_id_map(srs): return pd.Series(\n",
    "    srs.unique()).reset_index(drop=False).set_index(0).squeeze()\n",
    "\n",
    "\n",
    "user_map_srs = get_id_map(asmg_ratings_df[\"userId\"])\n",
    "asmg_ratings_df.loc[:, \"userId\"] = asmg_ratings_df.loc[:, \"userId\"].map(\n",
    "    user_map_srs).astype(\"category\")\n",
    "\n",
    "# drop unused categories on movieId\n",
    "item_map_srs = get_id_map(asmg_ratings_df[\"movieId\"])\n",
    "asmg_ratings_df.loc[:, \"movieId\"] = asmg_ratings_df.loc[:, \"movieId\"].map(\n",
    "    item_map_srs).astype(\"category\")\n",
    "\n",
    "# assign label 1 to ratings >= 8 to transform in binary classification\n",
    "asmg_ratings_df = asmg_ratings_df.assign(**{\n",
    "    \"label\": lambda df: df[\"rating\"].ge(8).astype(\"uint8\")\n",
    "})\n",
    "\n",
    "# drop ratings as it is unused\n",
    "asmg_ratings_df.drop(\"rating\", axis=1, inplace=True)\n"
   ]
  },
  {
   "cell_type": "code",
   "execution_count": null,
   "metadata": {},
   "outputs": [],
   "source": [
    "# note this statistics do not coincide with paper but do coincide with code \n",
    "# output of proproc/ml_preproc.py\n",
    "print(\"dataset statistics:\", asmg_ratings_df.nunique(), \"\", sep=\"\\n\")"
   ]
  },
  {
   "cell_type": "markdown",
   "metadata": {},
   "source": [
    "asmg_ratings_df.info()"
   ]
  },
  {
   "cell_type": "code",
   "execution_count": null,
   "metadata": {},
   "outputs": [],
   "source": [
    "# build period variable \n",
    "asmg_ratings_df.sort_values(\"timestamp\", ascending=True, inplace=True)\n",
    "asmg_ratings_df.reset_index(inplace=True, drop=True)\n",
    "total_obs_before_drop = len(asmg_ratings_df)\n",
    "records_per_period, lost_records = divmod(\n",
    "    total_obs_before_drop, preproc_config['n_periods'])\n",
    "records_per_period, lost_records\n",
    "print(f\"\"\"{records_per_period = }\n",
    "{lost_records = }\"\"\")\n",
    "asmg_ratings_df = asmg_ratings_df.assign(**{\n",
    "    \"period\": lambda df: (df.index // records_per_period + 1).astype(\"uint8\")\n",
    "})\n",
    "asmg_ratings_df.drop(asmg_ratings_df.index[\n",
    "    asmg_ratings_df[\"period\"] > preproc_config['n_periods']], inplace=True)\n",
    "\n",
    "# drop timestamp as it is unused\n",
    "asmg_ratings_df.drop(\"timestamp\", axis=1, inplace=True)\n",
    "\n",
    "# check types and disk usage\n",
    "asmg_ratings_df.info()"
   ]
  },
  {
   "cell_type": "code",
   "execution_count": null,
   "metadata": {},
   "outputs": [],
   "source": [
    "# period_df = asmg_ratings_df.groupby('period')['timestamp'].agg(['count', 'min', 'max'])"
   ]
  },
  {
   "cell_type": "code",
   "execution_count": null,
   "metadata": {},
   "outputs": [],
   "source": [
    "# make directory\n",
    "preprocessed_data_dir = \\\n",
    "    f'{preproc_config[\"data_dir\"]}/{preproc_config[\"dst_dir\"]}'\n",
    "if not os.path.exists(preprocessed_data_dir):\n",
    "    os.mkdir(preprocessed_data_dir)\n",
    "\n",
    "# save processed file which is the input of all models\n",
    "dst_path = f\"{preprocessed_data_dir}/{preproc_config['dst_filename']}.csv\"\n",
    "asmg_ratings_df.to_csv(dst_path, index=False)\n",
    "print(f\"saved output at {os.path.abspath(dst_path)}\")\n"
   ]
  },
  {
   "cell_type": "code",
   "execution_count": null,
   "metadata": {},
   "outputs": [],
   "source": [
    "item_map_srs.index.to_series().rename(\"movieId\")"
   ]
  },
  {
   "cell_type": "code",
   "execution_count": null,
   "metadata": {},
   "outputs": [],
   "source": [
    "# save movieId map for movie reidentification\n",
    "movie_map_path = f'{preprocessed_data_dir}/{preproc_config[\"movie_map_filename\"]}.csv'\n",
    "item_map_srs.index.to_series().rename(\"movieId\").reset_index(\n",
    "    drop=True).to_csv(movie_map_path)\n",
    "print(f\"saved movieId_map at {os.path.abspath(movie_map_path)}\")"
   ]
  }
 ],
 "metadata": {
  "kernelspec": {
   "display_name": "Python 3.8.13 ('alpha')",
   "language": "python",
   "name": "python3"
  },
  "language_info": {
   "codemirror_mode": {
    "name": "ipython",
    "version": 3
   },
   "file_extension": ".py",
   "mimetype": "text/x-python",
   "name": "python",
   "nbconvert_exporter": "python",
   "pygments_lexer": "ipython3",
   "version": "3.8.13"
  },
  "orig_nbformat": 4,
  "vscode": {
   "interpreter": {
    "hash": "26ae111bd7481dd6266ac7e84bf867498b6b0fbfa14667d050bcdd9b0494c793"
   }
  }
 },
 "nbformat": 4,
 "nbformat_minor": 2
}
