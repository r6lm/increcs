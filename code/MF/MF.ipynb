{
 "cells": [
  {
   "cell_type": "code",
   "execution_count": null,
   "metadata": {},
   "outputs": [],
   "source": [
    "%load_ext autoreload\n",
    "%autoreload 2\n",
    "\n",
    "import numpy as np\n",
    "import pandas as pd\n",
    "import torch, torch.optim as optim, torch.nn as nn\n",
    "import sys, os\n",
    "sys.path.append(\"./..\")\n",
    "from dataset.ASMGMovieLens import ASMGMovieLens\n",
    "from utils.save import get_timestamp, save_as_json\n",
    "\n",
    "from torch.utils.data import DataLoader\n",
    "from model import MF\n",
    "\n",
    "device = torch.device('cuda:0' if torch.cuda.is_available() else 'cpu')\n",
    "print(f'{device = }')"
   ]
  },
  {
   "cell_type": "code",
   "execution_count": null,
   "metadata": {},
   "outputs": [],
   "source": [
    "os.cpu_count()"
   ]
  },
  {
   "cell_type": "code",
   "execution_count": null,
   "metadata": {},
   "outputs": [],
   "source": [
    "train_params = dict(\n",
    "    input_path=\"../../data/preprocessed/ml_processed.csv\",\n",
    "    test_start_period=25,\n",
    "    train_window=10,\n",
    "    n_epochs=10,\n",
    "    batch_size = 64,\n",
    "    model_checkpoint_dir = './../../model/MF',\n",
    "    model_stem_filename = 'first_mf'\n",
    ")\n",
    "model_params = dict(\n",
    "    n_users=43183,\n",
    "    n_items=51149,\n",
    "    n_latents=10\n",
    ")"
   ]
  },
  {
   "cell_type": "code",
   "execution_count": null,
   "metadata": {},
   "outputs": [],
   "source": [
    "# initialize trianing variables\n",
    "test_period = train_params[\"test_start_period\"]\n",
    "train_window_begin = train_params[\"test_start_period\"] - train_params[\"train_window\"]\n",
    "train_window_end = train_params[\"test_start_period\"] - 1 \n"
   ]
  },
  {
   "cell_type": "code",
   "execution_count": null,
   "metadata": {},
   "outputs": [],
   "source": [
    "train_data = ASMGMovieLens(train_params[\"input_path\"], train_window_begin, train_window_end)\n",
    "test_data = ASMGMovieLens(train_params[\"input_path\"], test_period)"
   ]
  },
  {
   "cell_type": "markdown",
   "metadata": {},
   "source": [
    "data_df = pd.read_csv(train_params[\"input_path\"])"
   ]
  },
  {
   "cell_type": "markdown",
   "metadata": {},
   "source": [
    "data_df.head()"
   ]
  },
  {
   "cell_type": "markdown",
   "metadata": {},
   "source": [
    "\n",
    "\n",
    "\n",
    "df_train = data_df.loc[\n",
    "    select_period(train_window_begin, train_window_end), :]\n",
    "df_test = data_df.loc[\n",
    "    select_period(test_period), :]\n"
   ]
  },
  {
   "cell_type": "markdown",
   "metadata": {},
   "source": [
    "df_train.info()"
   ]
  },
  {
   "cell_type": "code",
   "execution_count": null,
   "metadata": {},
   "outputs": [],
   "source": [
    "# initialize dataloaders\n",
    "# torch.manual_seed(6202)\n",
    "# train_dataloader = DataLoader(train_data, batch_size=64, shuffle=True)\n",
    "# test_dataloader = DataLoader(test_data, batch_size=64, shuffle=True)\n",
    "# for x_minibatch, y_minibatch in train_dataloader:\n",
    "\n",
    "#     # parse \n",
    "#     user_minibatch = x_minibatch[:, 0].squeeze()\n",
    "#     item_minibatch = x_minibatch[:, 1].squeeze()\n",
    "#     break"
   ]
  },
  {
   "cell_type": "code",
   "execution_count": null,
   "metadata": {},
   "outputs": [],
   "source": [
    "mf = MF(\n",
    "    model_params[\"n_users\"], model_params[\"n_items\"], model_params[\"n_latents\"]).to(device)"
   ]
  },
  {
   "cell_type": "code",
   "execution_count": null,
   "metadata": {},
   "outputs": [],
   "source": [
    "len(train_data)/64"
   ]
  },
  {
   "cell_type": "code",
   "execution_count": null,
   "metadata": {},
   "outputs": [],
   "source": [
    "# get model checkpoint path\n",
    "timestamp = get_timestamp()\n",
    "\n",
    "if not os.path.exists(train_params[\"model_checkpoint_dir\"]):\n",
    "    os.makedirs(train_params[\"model_checkpoint_dir\"])\n",
    "\n",
    "model_checkpoint_path = f'{train_params[\"model_checkpoint_dir\"]}/' \\\n",
    "    f'{train_params[\"model_stem_filename\"]}-{timestamp}.pth'\n"
   ]
  },
  {
   "cell_type": "code",
   "execution_count": null,
   "metadata": {},
   "outputs": [],
   "source": [
    "torch.manual_seed(6202)\n",
    "\n",
    "loss_function = nn.BCELoss()\n",
    "optimizer = optim.Adam(mf.parameters())\n",
    "\n",
    "# train\n",
    "for epoch in range(1, train_params[\"n_epochs\"] + 1):\n",
    "\n",
    "    cum_epoch_loss = 0.\n",
    "    running_loss = 0.\n",
    "\n",
    "    # set mopdel on training mode\n",
    "    mf.train()\n",
    "    train_dataloader = DataLoader(\n",
    "        train_data, batch_size=train_params[\"batch_size\"], shuffle=True,\n",
    "        num_workers=os.cpu_count())\n",
    "\n",
    "    for i, (x_minibatch, y_minibatch) in enumerate(train_dataloader):\n",
    "\n",
    "        # parse input\n",
    "        user_minibatch = x_minibatch[:, 0].squeeze().to(device)\n",
    "        item_minibatch = x_minibatch[:, 1].squeeze().to(device)\n",
    "\n",
    "        # do not acumulate the gradients from last mini-batch\n",
    "        optimizer.zero_grad()\n",
    "\n",
    "        # get loss\n",
    "        scores = mf(user_minibatch, item_minibatch)\n",
    "        loss = loss_function(scores, y_minibatch.to(device))\n",
    "        sum_loss = loss.item() * train_params[\"batch_size\"]\n",
    "        cum_epoch_loss += sum_loss\n",
    "\n",
    "        # compute backpropagation gradients\n",
    "        loss.backward()\n",
    "\n",
    "        # update parameters\n",
    "        optimizer.step()\n",
    "\n",
    "        # report mean loss per item\n",
    "        running_loss += sum_loss \n",
    "        if i % 2000 == 1999:    # print every 2000 mini-batches\n",
    "            print(f'[{epoch = }, {i + 1:5d}]'\n",
    "                  f'loss: {running_loss / 2000 /train_params[\"batch_size\"]:.3f}',\n",
    "                   end=\"\\r\")\n",
    "            running_loss = 0.\n",
    "\n",
    "    # report epoch statistics\n",
    "    epoch_loss = cum_epoch_loss / len(train_data)\n",
    "    print(f\"{epoch_loss = :.3f}\")\n"
   ]
  },
  {
   "cell_type": "code",
   "execution_count": null,
   "metadata": {},
   "outputs": [],
   "source": [
    "# save model\n",
    "torch.save(mf.state_dict(), model_checkpoint_path)"
   ]
  },
  {
   "cell_type": "code",
   "execution_count": null,
   "metadata": {},
   "outputs": [],
   "source": []
  },
  {
   "cell_type": "code",
   "execution_count": null,
   "metadata": {},
   "outputs": [],
   "source": [
    "save_as_json({**train_params, **model_params}, model_checkpoint_path.replace(\".pth\", \"\"))"
   ]
  },
  {
   "cell_type": "code",
   "execution_count": null,
   "metadata": {},
   "outputs": [],
   "source": [
    "model2 = MF(\n",
    "    model_params[\"n_users\"], model_params[\"n_items\"], model_params[\"n_latents\"])\n",
    "model2.load_state_dict(torch.load(model_checkpoint_path))"
   ]
  },
  {
   "cell_type": "markdown",
   "metadata": {},
   "source": [
    "\n",
    "# test\n",
    "test_dataloader = DataLoader(\n",
    "    test_data, batch_size=train_params[\"batch_size\"], shuffle=True)\n",
    "\n",
    "with torch.no_grad():\n",
    "    for i, (x_minibatch, y_minibatch) in enumerate(train_dataloader):\n",
    "\n",
    "        # parse input\n",
    "        user_minibatch = x_minibatch[:, 0].squeeze()\n",
    "        item_minibatch = x_minibatch[:, 1].squeeze()"
   ]
  }
 ],
 "metadata": {
  "kernelspec": {
   "display_name": "Python 3.8.13 ('alpha')",
   "language": "python",
   "name": "python3"
  },
  "language_info": {
   "codemirror_mode": {
    "name": "ipython",
    "version": 3
   },
   "file_extension": ".py",
   "mimetype": "text/x-python",
   "name": "python",
   "nbconvert_exporter": "python",
   "pygments_lexer": "ipython3",
   "version": "3.8.13"
  },
  "orig_nbformat": 4,
  "vscode": {
   "interpreter": {
    "hash": "26ae111bd7481dd6266ac7e84bf867498b6b0fbfa14667d050bcdd9b0494c793"
   }
  }
 },
 "nbformat": 4,
 "nbformat_minor": 2
}
