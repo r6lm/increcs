{
 "cells": [
  {
   "cell_type": "code",
   "execution_count": 1,
   "metadata": {},
   "outputs": [],
   "source": [
    "from utils.save import load_json_array\n",
    "import seaborn as sns\n",
    "import pandas as pd\n",
    "import matplotlib.pyplot as plt\n",
    "import torch\n",
    "import numpy as np\n",
    "import glob, argparse\n",
    "\n",
    "sys.path.append(\"./..\") # \\todo: change for relative import\n",
    "from dataset.ASMGMovieLens import ASMGMovieLens"
   ]
  },
  {
   "cell_type": "markdown",
   "metadata": {},
   "source": [
    "# Get Generalization Error "
   ]
  },
  {
   "cell_type": "code",
   "execution_count": 2,
   "metadata": {},
   "outputs": [
    {
     "name": "stdout",
     "output_type": "stream",
     "text": [
      "BM\n"
     ]
    }
   ],
   "source": [
    "parser = argparse.ArgumentParser()\n",
    "parser.add_argument(\n",
    "    \"--regime\", default=\"BM\", help=\"training regime for whih results are collected\")\n",
    "\n",
    "parsed_args = parser.parse_args([])\n",
    "# parsed_args = parser.parse_args()\n",
    "print(parsed_args.regime)"
   ]
  },
  {
   "cell_type": "code",
   "execution_count": 3,
   "metadata": {},
   "outputs": [
    {
     "name": "stdout",
     "output_type": "stream",
     "text": [
      "seed = '6202'\n",
      "predictions completely wrong: 5\n",
      "generalization error: -1.3234 ± 0.0013\n",
      "\n",
      "\n"
     ]
    }
   ],
   "source": [
    "mc_means = []\n",
    "mc_se = []\n",
    "\n",
    "# for seed in range(1,6):\n",
    "for seed in [\"6202\"]:\n",
    "\n",
    "    print(f\"{seed = }\")\n",
    "\n",
    "    # concatenate results\n",
    "    preds_pattern = f\"../model/MF/BM/T*/preds-s{seed}.pt\"\n",
    "    start_test_period, end_test_period = (25, 31)\n",
    "    n_periods = end_test_period - start_test_period + 1\n",
    "    concat_true_y = ASMGMovieLens(\"../data/preprocessed/ml_processed.csv\", 25, 31).y\n",
    "    obs_per_period = int(len(concat_true_y) / n_periods)\n",
    "    concat_prob_correct = torch.ones_like(concat_true_y) * -1\n",
    "    for i, filename in enumerate(sorted(glob.glob(preds_pattern))):\n",
    "        pred_y = torch.load(filename)\n",
    "        true_y = concat_true_y[i * obs_per_period:(i + 1) * obs_per_period]\n",
    "        prob_correct = pred_y\n",
    "        prob_correct[~true_y.bool()] = 1 - prob_correct[~true_y.bool()]\n",
    "        concat_prob_correct[\n",
    "            i * obs_per_period:(i + 1) * obs_per_period\n",
    "        ] = prob_correct\n",
    "\n",
    "    assert (concat_prob_correct != -1).all().item()\n",
    "\n",
    "\n",
    "    prob_correct_clean = concat_prob_correct[concat_prob_correct != 0]\n",
    "    print(f\"predictions completely wrong: {len(concat_prob_correct) - len(prob_correct_clean)}\")\n",
    "    log_prob_correct = torch.log(prob_correct_clean)\n",
    "    std_log, mean_log = torch.std_mean(log_prob_correct)\n",
    "    se_log = std_log / np.sqrt(len(prob_correct_clean))\n",
    "    mc_means.append(mean_log.item())\n",
    "    mc_se.append(se_log.item())\n",
    "\n",
    "gen_error = np.mean(mc_means)\n",
    "gen_error_se = np.mean(mc_se)\n",
    "print(f\"generalization error: {gen_error:.4f} ± {gen_error_se:.4f}\\n\\n\")\n"
   ]
  }
 ],
 "metadata": {
  "kernelspec": {
   "display_name": "Python 3.8.13 ('alpha')",
   "language": "python",
   "name": "python3"
  },
  "language_info": {
   "codemirror_mode": {
    "name": "ipython",
    "version": 3
   },
   "file_extension": ".py",
   "mimetype": "text/x-python",
   "name": "python",
   "nbconvert_exporter": "python",
   "pygments_lexer": "ipython3",
   "version": "3.8.13"
  },
  "orig_nbformat": 4,
  "vscode": {
   "interpreter": {
    "hash": "26ae111bd7481dd6266ac7e84bf867498b6b0fbfa14667d050bcdd9b0494c793"
   }
  }
 },
 "nbformat": 4,
 "nbformat_minor": 2
}
