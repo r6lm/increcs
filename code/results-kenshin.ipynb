{
 "cells": [
  {
   "cell_type": "code",
   "execution_count": null,
   "metadata": {},
   "outputs": [],
   "source": [
    "from utils.save import load_json_array\n",
    "import seaborn as sns\n",
    "import pandas as pd\n",
    "import matplotlib.pyplot as plt\n",
    "import torch\n",
    "import numpy as np\n",
    "import glob\n",
    "import sys\n",
    "sys.path.append(\"./..\") # \\todo: change for relative import\n",
    "from dataset.ASMGMovieLens import ASMGMovieLens"
   ]
  },
  {
   "cell_type": "code",
   "execution_count": null,
   "metadata": {},
   "outputs": [],
   "source": [
    "# biu_results_path = \"../../others/TyXe/safebox/TyXe-results-220809.json\"\n",
    "# biu_results_path = \"../../others/TyXe/safebox/TyXe-results-220817.json\"\n",
    "biu_results_path = \"../../others/TyXe/safebox/TyXe-results-220818.json\"\n",
    "sml_results_path = \"../../others/TyXe/safebox/SML-placeholder.json\"\n",
    "gen_error_path = \"../safebox/gen-error.csv\"\n",
    "baselines_results_dir = \"../safebox\"\n",
    "results_df = load_json_array(biu_results_path)\n",
    "results_df"
   ]
  },
  {
   "cell_type": "code",
   "execution_count": null,
   "metadata": {},
   "outputs": [],
   "source": [
    "bm_results_path = baselines_results_dir + \"/BM-results-220816.json\"\n",
    "iu_results_path = baselines_results_dir + \"/IU-results-220816.json\"\n",
    "load_json_array(bm_results_path)"
   ]
  },
  {
   "cell_type": "code",
   "execution_count": null,
   "metadata": {},
   "outputs": [],
   "source": [
    "results_df = pd.concat({\n",
    "    \"BIU\": load_json_array(biu_results_path),\n",
    "    \"BM\": load_json_array(bm_results_path),\n",
    "    \"IU\": load_json_array(iu_results_path),\n",
    "    \"SML\": load_json_array(sml_results_path)\n",
    "}).reset_index().rename({\"level_0\": \"training_regime\"}, axis=1)\n",
    "results_df"
   ]
  },
  {
   "cell_type": "code",
   "execution_count": null,
   "metadata": {},
   "outputs": [],
   "source": [
    "def print_latex(df, column_format=\"c\", **kwargs):\n",
    "    if df.shape[1] > len(column_format):\n",
    "        n_cols = df.shape[1] + 1\n",
    "        \"c\" * n_cols\n",
    "    print(df.to_latex(column_format=column_format, **kwargs))"
   ]
  },
  {
   "cell_type": "markdown",
   "metadata": {},
   "source": [
    "# Robustness error"
   ]
  },
  {
   "cell_type": "code",
   "execution_count": null,
   "metadata": {},
   "outputs": [],
   "source": [
    "diss_table = results_df.groupby(\"training_regime\")[[\"loss\", \"auc\", \"train_time\"]].agg([\n",
    "    \"mean\", \"std\"])\n",
    "diss_table\n",
    "\n",
    "#round\n",
    "round_dict = dict(zip(diss_table.columns, [4] * 4 + [1] * 2))\n",
    "diss_table = diss_table.round(round_dict)\n",
    "\n",
    "# rename training regimes\n",
    "tr_dict = dict(zip(['BIU', 'BM', 'IU', 'SML'], ['BIFT', 'PBT', 'IFT', 'SML']))\n",
    "diss_table = diss_table.rename(tr_dict).sort_index(0)\n",
    "\n",
    "perf_dict = dict(zip([\"loss\", \"auc\", \"train_time\"], [\"NLL\", \"AUC\", \"training time\"]))\n",
    "diss_table = diss_table.rename(perf_dict, axis=1, level=0).sort_index(0)\n",
    "\n",
    "\n",
    "print_latex(diss_table.groupby(axis=1, level=0, sort=False).agg(\n",
    "    # lambda srs: f\"{srs.at[0]} + {srs.at[1]}\")\n",
    "    lambda df: df.iloc[:, 0].astype(\"str\").str.cat(df.iloc[:, 1].astype(\"str\"), sep=\" ± \"))\n",
    ")\n"
   ]
  },
  {
   "cell_type": "markdown",
   "metadata": {},
   "source": [
    "# Generalization error"
   ]
  },
  {
   "cell_type": "code",
   "execution_count": null,
   "metadata": {},
   "outputs": [],
   "source": [
    "gen_error_df = pd.read_csv(gen_error_path, header=[0, 1], index_col=0)\n",
    "mean_srs = gen_error_df.mean(0)\n",
    "mean_srs.name = \"mean\"\n",
    "gen_error_df.append(mean_srs)"
   ]
  },
  {
   "cell_type": "code",
   "execution_count": null,
   "metadata": {},
   "outputs": [],
   "source": [
    "gen_error_df.std()"
   ]
  },
  {
   "cell_type": "code",
   "execution_count": null,
   "metadata": {},
   "outputs": [],
   "source": [
    "gen_error_table = mean_srs.unstack()\n",
    "\n",
    "# rename training regimes\n",
    "tr_dict = dict(zip(['BIU', 'BM', 'IU', 'SML'], ['BIFT', 'PBT', 'IFT', 'SML']))\n",
    "gen_error_table = gen_error_table.rename(tr_dict).sort_index(0)\n",
    "\n",
    "# \n",
    "gen_error_table.columns = pd.MultiIndex.from_arrays(([\"NLL\"] * 2, gen_error_table.columns))\n",
    "print_latex(\n",
    "    gen_error_table.round(5).groupby(axis=1, level=0, sort=False).agg(\n",
    "    lambda df: df.iloc[:, 0].astype(\"str\").str.cat(df.iloc[:, 1].astype(\"str\"), sep=\" ± \")),\n",
    "    column_format=\"lc\")"
   ]
  },
  {
   "cell_type": "code",
   "execution_count": null,
   "metadata": {},
   "outputs": [],
   "source": [
    "sns.set(font_scale=1.5)\n",
    "fig, axes = plt.subplots(1, 3, figsize =(18, 6), gridspec_kw=dict(wspace=0.4))\n",
    "loss_barplot = sns.barplot(x=\"training_regime\", y=\"loss\", data=results_df, ci=\"sd\", ax=axes[0])\n",
    "loss_barplot.set_ylim(0.605, 0.6225)\n",
    "auc_barplot = sns.barplot(x=\"training_regime\", y=\"auc\", data=results_df, ci=\"sd\", ax=axes[1])\n",
    "auc_barplot.set_ylim(0.71, 0.73)\n",
    "time_barplot = sns.barplot(x=\"training_regime\", y=\"train_time\", data=results_df, ci=\"sd\", ax=axes[2])\n",
    "# time_barplot.set_ylim(0.605, 0.6225)"
   ]
  },
  {
   "cell_type": "code",
   "execution_count": null,
   "metadata": {},
   "outputs": [],
   "source": [
    "sns.set(font_scale=1.5)\n",
    "fig, axes = plt.subplots(1, 3, figsize=(18, 6), gridspec_kw=dict(wspace=0.4))\n",
    "loss_barplot = sns.barplot(\n",
    "    x=\"training_regime\", y=\"loss\", data=results_df, ax=axes[0])\n",
    "loss_barplot.set_ylim(0.605, 0.6225)\n",
    "auc_barplot = sns.barplot(x=\"training_regime\", y=\"auc\",\n",
    "                          data=results_df, ax=axes[1])\n",
    "auc_barplot.set_ylim(0.71, 0.73)\n",
    "time_barplot = sns.barplot(\n",
    "    x=\"training_regime\", y=\"train_time\", data=results_df, ax=axes[2])\n",
    "# time_barplot.set_ylim(0.605, 0.6225)\n"
   ]
  },
  {
   "cell_type": "code",
   "execution_count": null,
   "metadata": {},
   "outputs": [],
   "source": [
    "results_df.groupby(\"training_regime\")[\"loss\"].agg([\n",
    "    \"mean\", \"std\", (lambda srs: pd.Series(np.array([\n",
    "        srs.sample(frac=1, replace=True) for _ in range(1000)]).mean(1)).std())\n",
    "]).rename({\"<lambda_0>\": \"bootstrap_std\"}, axis=1)\n"
   ]
  },
  {
   "cell_type": "code",
   "execution_count": null,
   "metadata": {},
   "outputs": [],
   "source": [
    "results_df.groupby(\"training_regime\")[\"loss\"].agg([\n",
    "    \"mean\", (lambda srs: pd.Series(np.array([\n",
    "        srs.sample(frac=1, replace=True) for _ in range(1000)]).mean(1)\n",
    "        ).quantile((0.025, 0.975)).to_list())\n",
    "]).rename({\"<lambda_0>\": \"bootstrap_ci\"}, axis=1)\n"
   ]
  }
 ],
 "metadata": {
  "kernelspec": {
   "display_name": "Python 3.8.13 ('alpha')",
   "language": "python",
   "name": "python3"
  },
  "language_info": {
   "codemirror_mode": {
    "name": "ipython",
    "version": 3
   },
   "file_extension": ".py",
   "mimetype": "text/x-python",
   "name": "python",
   "nbconvert_exporter": "python",
   "pygments_lexer": "ipython3",
   "version": "3.8.13"
  },
  "orig_nbformat": 4,
  "vscode": {
   "interpreter": {
    "hash": "26ae111bd7481dd6266ac7e84bf867498b6b0fbfa14667d050bcdd9b0494c793"
   }
  }
 },
 "nbformat": 4,
 "nbformat_minor": 2
}
